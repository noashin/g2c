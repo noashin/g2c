{
 "cells": [
  {
   "cell_type": "code",
   "execution_count": 14,
   "metadata": {
    "collapsed": true
   },
   "outputs": [],
   "source": [
    "import pandas as pd\n",
    "import numpy as np"
   ]
  },
  {
   "cell_type": "code",
   "execution_count": 15,
   "metadata": {
    "collapsed": false
   },
   "outputs": [],
   "source": [
    "def prepare_target(csv_file):\n",
    "    df = pd.read_csv(csv_file).set_index('Unnamed: 0')\n",
    "    \n",
    "    connectivity_mat = df.as_matrix()\n",
    "    N = connectivity_mat.shape[0]\n",
    "    connectivity_mat[connectivity_mat > 0.05] = 0.\n",
    "    connectivity_mat[connectivity_mat > 0.] = 1.\n",
    "    \n",
    "    connectivity_mat_flatten = connectivity_mat.flatten()\n",
    "    \n",
    "    target = np.delete(connectivity_mat_flatten, np.arange(0, N*N, N))\n",
    "    \n",
    "    return target"
   ]
  },
  {
   "cell_type": "code",
   "execution_count": 28,
   "metadata": {
    "collapsed": false
   },
   "outputs": [],
   "source": []
  }
 ],
 "metadata": {
  "kernelspec": {
   "display_name": "Python 2",
   "language": "python",
   "name": "python2"
  },
  "language_info": {
   "codemirror_mode": {
    "name": "ipython",
    "version": 2
   },
   "file_extension": ".py",
   "mimetype": "text/x-python",
   "name": "python",
   "nbconvert_exporter": "python",
   "pygments_lexer": "ipython2",
   "version": "2.7.12"
  }
 },
 "nbformat": 4,
 "nbformat_minor": 0
}
