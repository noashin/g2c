{
 "cells": [
  {
   "cell_type": "code",
   "execution_count": 3,
   "metadata": {
    "collapsed": true
   },
   "outputs": [],
   "source": [
    "import urllib2\n",
    "\n",
    "import os\n",
    "import json\n",
    "import subprocess\n",
    "import sys\n",
    "import requests\n",
    "import numpy as np\n",
    "\n",
    "from io import BytesIO\n",
    "import numpy as np\n",
    "from PIL import Image"
   ]
  },
  {
   "cell_type": "code",
   "execution_count": 32,
   "metadata": {
    "collapsed": false
   },
   "outputs": [],
   "source": [
    "class AllenImageSyncroSDK(object):\n",
    "    def __init__(self,base_url ='http://api.brain-map.org/api/v2/'):\n",
    "        self.base_url = base_url\n",
    "    def image_to_atlas(self,SectionImageId,x,y,atlas_id,session=requests.session()):\n",
    "        url = self.base_url + 'image_to_atlas/%d.json?x=%f&y=%f&atlas_id=%d'%(SectionImageId,x,y,atlas_id)\n",
    "        return self.process_simple_url_request(url,session)\n",
    "        \n",
    "    def reference_to_image(self,ReferenceSpaceId,x,y,z,section_data_set_ids=[],session=requests.session()):\n",
    "        data_set_string=','.join([str(id) for id in section_data_set_ids])\n",
    "        url = self.base_url + 'reference_to_image/%d.json?x=%f&y=%f&z=%f&&section_data_set_ids=%s'%(ReferenceSpaceId,x,y,z,data_set_string)\n",
    "        json= self.process_simple_url_request(url,session)\n",
    "        return json\n",
    "        #returns section_image_id,section_number,x,y\n",
    "    def image_to_reference(self,SectionImageId,x,y,session=requests.session()):\n",
    "        #http://api.brain-map.org/api/v2/image_to_reference/[SectionImage.id].[xml|json]?x=[#]&y=[#]\n",
    "        url = self.base_url + 'image_to_reference/%d.json&x=%f,y=%f'%(SectionImageId,x,y)\n",
    "        return self.process_simple_url_request(url,session)    \n",
    "        #return x,y,z\n",
    "  \n",
    "    def process_simple_url_request(self,request_url,session):\n",
    "        r = session.get(request_url)\n",
    "        try:\n",
    "            #print(r.json())\n",
    "            return r.json()\n",
    "        except:\n",
    "            #print e\n",
    "            print(r.text)\n",
    "            return None"
   ]
  },
  {
   "cell_type": "code",
   "execution_count": 33,
   "metadata": {
    "collapsed": false
   },
   "outputs": [],
   "source": [
    "allensdk=AllenImageSyncroSDK()"
   ]
  },
  {
   "cell_type": "code",
   "execution_count": 34,
   "metadata": {
    "collapsed": false
   },
   "outputs": [
    {
     "data": {
      "text/plain": [
       "{u'id': 0,\n",
       " u'msg': [{u'image_sync': {u'section_data_set_id': u'100054727',\n",
       "    u'section_image_id': 101076332,\n",
       "    u'section_number': 2,\n",
       "    u'x': -2417.3885850519555,\n",
       "    u'y': -1548.4395986819839}}],\n",
       " u'num_rows': 0,\n",
       " u'start_row': 0,\n",
       " u'success': True,\n",
       " u'total_rows': 0}"
      ]
     },
     "execution_count": 34,
     "metadata": {},
     "output_type": "execute_result"
    }
   ],
   "source": [
    "allensdk.reference_to_image(1,0,0,0,[100054727])"
   ]
  },
  {
   "cell_type": "code",
   "execution_count": null,
   "metadata": {
    "collapsed": true
   },
   "outputs": [],
   "source": []
  }
 ],
 "metadata": {
  "kernelspec": {
   "display_name": "Python 2",
   "language": "python",
   "name": "python2"
  },
  "language_info": {
   "codemirror_mode": {
    "name": "ipython",
    "version": 2
   },
   "file_extension": ".py",
   "mimetype": "text/x-python",
   "name": "python",
   "nbconvert_exporter": "python",
   "pygments_lexer": "ipython2",
   "version": "2.7.11"
  }
 },
 "nbformat": 4,
 "nbformat_minor": 0
}
