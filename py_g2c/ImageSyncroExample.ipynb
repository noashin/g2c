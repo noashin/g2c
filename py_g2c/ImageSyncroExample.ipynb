{
 "cells": [
  {
   "cell_type": "code",
   "execution_count": 35,
   "metadata": {
    "collapsed": false
   },
   "outputs": [
    {
     "name": "stdout",
     "output_type": "stream",
     "text": [
      "The autoreload extension is already loaded. To reload it, use:\n",
      "  %reload_ext autoreload\n"
     ]
    }
   ],
   "source": [
    "%load_ext autoreload\n",
    "\n",
    "%autoreload 2"
   ]
  },
  {
   "cell_type": "code",
   "execution_count": 41,
   "metadata": {
    "collapsed": true
   },
   "outputs": [],
   "source": [
    "from AllenImageSyncroSDK import AllenImageSyncroSDK"
   ]
  },
  {
   "cell_type": "code",
   "execution_count": null,
   "metadata": {
    "collapsed": false
   },
   "outputs": [],
   "source": []
  },
  {
   "cell_type": "code",
   "execution_count": 42,
   "metadata": {
    "collapsed": false
   },
   "outputs": [],
   "source": [
    "allensdk=AllenImageSyncroSDK()"
   ]
  },
  {
   "cell_type": "code",
   "execution_count": 43,
   "metadata": {
    "collapsed": false
   },
   "outputs": [
    {
     "data": {
      "text/plain": [
       "{u'id': 0,\n",
       " u'msg': [{u'image_sync': {u'section_data_set_id': u'100054727',\n",
       "    u'section_image_id': 101076332,\n",
       "    u'section_number': 2,\n",
       "    u'x': -2417.3885850519555,\n",
       "    u'y': -1548.4395986819839}}],\n",
       " u'num_rows': 0,\n",
       " u'start_row': 0,\n",
       " u'success': True,\n",
       " u'total_rows': 0}"
      ]
     },
     "execution_count": 43,
     "metadata": {},
     "output_type": "execute_result"
    }
   ],
   "source": [
    "allensdk.reference_to_image(1,0,0,0,[100054727])"
   ]
  },
  {
   "cell_type": "code",
   "execution_count": 48,
   "metadata": {
    "collapsed": false
   },
   "outputs": [
    {
     "data": {
      "text/plain": [
       "{u'id': 0,\n",
       " u'msg': {u'image_sync': {u'section_data_set_id': None,\n",
       "   u'section_image_id': 100883770,\n",
       "   u'section_number': 130,\n",
       "   u'x': 7831.975024025194,\n",
       "   u'y': 3699.6414734399523}},\n",
       " u'num_rows': 0,\n",
       " u'start_row': 0,\n",
       " u'success': True,\n",
       " u'total_rows': 0}"
      ]
     },
     "execution_count": 48,
     "metadata": {},
     "output_type": "execute_result"
    }
   ],
   "source": [
    "#this takes a plate from the e18 atlas (100740810)\n",
    "#and a location roughly over p2a on that plate\n",
    "#and maps it to the p56 atlas (id=181276165)\n",
    "# see http://atlas.brain-map.org/atlas?atlas=181276160#atlas=181276160&plate=100740810&structure=16382&x=3997&y=2293&zoom=0&resolution=0.99&z=6\n",
    "\n",
    "allensdk.image_to_atlas(100740810,3997,2293,181276165)\n",
    "\n",
    "#the result says it is on section_image_id=10083770 at 7831,3699\n",
    "#which is correctly over p2a\n",
    "#see http://atlas.brain-map.org/atlas?atlas=181276165#atlas=181276165&plate=100883770&structure=16382&x=7831.99560546875&y=3700.004638671875&zoom=0&resolution=2.09&z=7"
   ]
  },
  {
   "cell_type": "code",
   "execution_count": 45,
   "metadata": {
    "collapsed": false
   },
   "outputs": [
    {
     "name": "stdout",
     "output_type": "stream",
     "text": [
      "url http://api.brain-map.org/api/v2/image_to_reference/100837249.json?x=0.000000&y=0.000000\n"
     ]
    },
    {
     "data": {
      "text/plain": [
       "{u'id': 0,\n",
       " u'msg': {u'image_to_reference': {u'x': -252.62020458000075,\n",
       "   u'y': 368.6918056779996,\n",
       "   u'z': 1922.0098100000012}},\n",
       " u'num_rows': 0,\n",
       " u'start_row': 0,\n",
       " u'success': True,\n",
       " u'total_rows': 0}"
      ]
     },
     "execution_count": 45,
     "metadata": {},
     "output_type": "execute_result"
    }
   ],
   "source": [
    "allensdk.image_to_reference(100837249,0,0)"
   ]
  },
  {
   "cell_type": "code",
   "execution_count": null,
   "metadata": {
    "collapsed": true
   },
   "outputs": [],
   "source": []
  }
 ],
 "metadata": {
  "kernelspec": {
   "display_name": "Python 2",
   "language": "python",
   "name": "python2"
  },
  "language_info": {
   "codemirror_mode": {
    "name": "ipython",
    "version": 2
   },
   "file_extension": ".py",
   "mimetype": "text/x-python",
   "name": "python",
   "nbconvert_exporter": "python",
   "pygments_lexer": "ipython2",
   "version": "2.7.11"
  }
 },
 "nbformat": 4,
 "nbformat_minor": 0
}
