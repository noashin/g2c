{
 "cells": [
  {
   "cell_type": "code",
   "execution_count": 35,
   "metadata": {
    "collapsed": false
   },
   "outputs": [
    {
     "name": "stdout",
     "output_type": "stream",
     "text": [
      "The autoreload extension is already loaded. To reload it, use:\n",
      "  %reload_ext autoreload\n"
     ]
    }
   ],
   "source": [
    "%load_ext autoreload\n",
    "\n",
    "%autoreload 2"
   ]
  },
  {
   "cell_type": "code",
   "execution_count": 36,
   "metadata": {
    "collapsed": true
   },
   "outputs": [],
   "source": [
    "from AllenImageSyncroSDK import AllenImageSyncroSDK"
   ]
  },
  {
   "cell_type": "code",
   "execution_count": null,
   "metadata": {
    "collapsed": false
   },
   "outputs": [],
   "source": []
  },
  {
   "cell_type": "code",
   "execution_count": 37,
   "metadata": {
    "collapsed": false
   },
   "outputs": [],
   "source": [
    "allensdk=AllenImageSyncroSDK()"
   ]
  },
  {
   "cell_type": "code",
   "execution_count": 38,
   "metadata": {
    "collapsed": false
   },
   "outputs": [
    {
     "data": {
      "text/plain": [
       "{u'id': 0,\n",
       " u'msg': [{u'image_sync': {u'section_data_set_id': u'100054727',\n",
       "    u'section_image_id': 101076332,\n",
       "    u'section_number': 2,\n",
       "    u'x': -2417.3885850519555,\n",
       "    u'y': -1548.4395986819839}}],\n",
       " u'num_rows': 0,\n",
       " u'start_row': 0,\n",
       " u'success': True,\n",
       " u'total_rows': 0}"
      ]
     },
     "execution_count": 38,
     "metadata": {},
     "output_type": "execute_result"
    }
   ],
   "source": [
    "allensdk.reference_to_image(1,0,0,0,[100054727])"
   ]
  },
  {
   "cell_type": "code",
   "execution_count": 39,
   "metadata": {
    "collapsed": false
   },
   "outputs": [
    {
     "data": {
      "text/plain": [
       "{u'id': 0,\n",
       " u'msg': {u'image_sync': {u'section_data_set_id': None,\n",
       "   u'section_image_id': 100960500,\n",
       "   u'section_number': 21,\n",
       "   u'x': 3139.107272337011,\n",
       "   u'y': -1950.398586558906}},\n",
       " u'num_rows': 0,\n",
       " u'start_row': 0,\n",
       " u'success': True,\n",
       " u'total_rows': 0}"
      ]
     },
     "execution_count": 39,
     "metadata": {},
     "output_type": "execute_result"
    }
   ],
   "source": [
    "allensdk.image_to_atlas(100837249,0,0,1)"
   ]
  },
  {
   "cell_type": "code",
   "execution_count": 40,
   "metadata": {
    "collapsed": false
   },
   "outputs": [
    {
     "name": "stdout",
     "output_type": "stream",
     "text": [
      "url http://api.brain-map.org/api/v2/image_to_reference/100837249.xml&x=0.000000&y=0.000000\n",
      "<!DOCTYPE html>\n",
      "<html>\n",
      "<head>\n",
      "  <title>The page you were looking for doesn't exist (404)</title>\n",
      "  <style type=\"text/css\">\n",
      "    body { background-color: #fff; color: #666; text-align: center; font-family: arial, sans-serif; }\n",
      "    div.dialog {\n",
      "      width: 25em;\n",
      "      padding: 0 4em;\n",
      "      margin: 4em auto 0 auto;\n",
      "      border: 1px solid #ccc;\n",
      "      border-right-color: #999;\n",
      "      border-bottom-color: #999;\n",
      "    }\n",
      "    h1 { font-size: 100%; color: #f00; line-height: 1.5em; }\n",
      "  </style>\n",
      "</head>\n",
      "\n",
      "<body>\n",
      "  <!-- This file lives in public/404.html -->\n",
      "  <div class=\"dialog\">\n",
      "    <h1>The page you were looking for doesn't exist.</h1>\n",
      "    <p>You may have mistyped the address or the page may have moved.</p>\n",
      "  </div>\n",
      "</body>\n",
      "</html>\n",
      "\n"
     ]
    }
   ],
   "source": [
    "allensdk.image_to_reference(100837249,0,0)"
   ]
  },
  {
   "cell_type": "code",
   "execution_count": null,
   "metadata": {
    "collapsed": true
   },
   "outputs": [],
   "source": []
  }
 ],
 "metadata": {
  "kernelspec": {
   "display_name": "Python 2",
   "language": "python",
   "name": "python2"
  },
  "language_info": {
   "codemirror_mode": {
    "name": "ipython",
    "version": 2
   },
   "file_extension": ".py",
   "mimetype": "text/x-python",
   "name": "python",
   "nbconvert_exporter": "python",
   "pygments_lexer": "ipython2",
   "version": "2.7.11"
  }
 },
 "nbformat": 4,
 "nbformat_minor": 0
}
